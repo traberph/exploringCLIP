{
 "cells": [
  {
   "cell_type": "code",
   "execution_count": 1,
   "id": "b3397caf-1359-4d00-bc4c-c0338801c845",
   "metadata": {},
   "outputs": [],
   "source": [
    "from transformers import CLIPTextModel, CLIPTokenizer\n",
    "from datasets import load_dataset"
   ]
  },
  {
   "cell_type": "code",
   "execution_count": 2,
   "id": "570f69d1-fdb8-4a15-8f32-09c3e3368285",
   "metadata": {},
   "outputs": [],
   "source": [
    "tokenizer = CLIPTokenizer.from_pretrained(\"stabilityai/sdxl-turbo\", subfolder=\"tokenizer\")\n",
    "text_encoder = CLIPTextModel.from_pretrained(\"stabilityai/sdxl-turbo\", subfolder=\"text_encoder\")#.to('cuda')"
   ]
  },
  {
   "cell_type": "code",
   "execution_count": null,
   "id": "518fcb20-da07-40fc-9ce3-1ded6fdb55be",
   "metadata": {},
   "outputs": [],
   "source": [
    "laion = load_dataset(\"laion/laion400m_new\")"
   ]
  },
  {
   "cell_type": "code",
   "execution_count": null,
   "id": "722fa15d-26eb-46de-96a7-fa56e7ce4c4b",
   "metadata": {},
   "outputs": [],
   "source": [
    "rnd = laion['train'].shuffle(seed=5)"
   ]
  },
  {
   "cell_type": "code",
   "execution_count": null,
   "id": "524dcabc-1d25-4a16-b4eb-cc43d6f69eeb",
   "metadata": {},
   "outputs": [],
   "source": [
    "subset = rnd.select(range(5000))"
   ]
  },
  {
   "cell_type": "code",
   "execution_count": null,
   "id": "df0f5102-32d9-4c2b-a74b-3df0e2555243",
   "metadata": {},
   "outputs": [],
   "source": [
    "test = subset.select(range(500))"
   ]
  },
  {
   "cell_type": "code",
   "execution_count": null,
   "id": "3a1be8c7-1b08-4639-979e-0e0e89940fec",
   "metadata": {},
   "outputs": [],
   "source": [
    "captions = subset[\"caption\"]"
   ]
  },
  {
   "cell_type": "code",
   "execution_count": null,
   "id": "050f6dc9-7901-4124-a1ce-6ffafd7cdf88",
   "metadata": {},
   "outputs": [],
   "source": [
    "captions[1]"
   ]
  },
  {
   "cell_type": "code",
   "execution_count": null,
   "id": "94abd23d-e4ab-45c8-b450-b14794613f86",
   "metadata": {},
   "outputs": [],
   "source": [
    "len(captions)"
   ]
  },
  {
   "cell_type": "code",
   "execution_count": null,
   "id": "81c70b87-1e7a-494f-900f-484501a6f271",
   "metadata": {},
   "outputs": [],
   "source": [
    "from transformers import CLIPTextModel, CLIPTokenizer\n",
    "import torch\n",
    "tokenizer = CLIPTokenizer.from_pretrained(\"CompVis/stable-diffusion-v1-4\", subfolder=\"tokenizer\")\n",
    "text_encoder = CLIPTextModel.from_pretrained(\"CompVis/stable-diffusion-v1-4\", subfolder=\"text_encoder\", use_safetensors=True)\n",
    "text_encoder.to('cuda')\n",
    "\"\""
   ]
  },
  {
   "cell_type": "code",
   "execution_count": null,
   "id": "feaca97d-9754-4d97-93bc-64d69434b9ef",
   "metadata": {},
   "outputs": [],
   "source": [
    "text_input = tokenizer(captions, padding=\"max_length\", max_length=tokenizer.model_max_length, truncation=True, return_tensors='pt')"
   ]
  },
  {
   "cell_type": "code",
   "execution_count": null,
   "id": "4d8df51a-57ed-4222-bb15-dd34ca57e994",
   "metadata": {},
   "outputs": [],
   "source": [
    "with torch.no_grad():\n",
    "    layers = text_encoder(text_input.input_ids.to(\"cuda\"))"
   ]
  },
  {
   "cell_type": "code",
   "execution_count": null,
   "id": "f5b8c39f-1ccb-46ad-88a6-2fe22d3386c2",
   "metadata": {},
   "outputs": [],
   "source": [
    "text_embeddings = layers.pooler_output"
   ]
  },
  {
   "cell_type": "code",
   "execution_count": null,
   "id": "5f2082dd-f601-43c7-afee-c59f8b658224",
   "metadata": {
    "editable": true,
    "slideshow": {
     "slide_type": ""
    },
    "tags": []
   },
   "outputs": [],
   "source": [
    "text_embeddings.shape"
   ]
  },
  {
   "cell_type": "code",
   "execution_count": null,
   "id": "7525bdd5-e092-4610-8257-72ca29e5aef7",
   "metadata": {},
   "outputs": [],
   "source": [
    "import umap\n",
    "reducer = umap.UMAP()"
   ]
  },
  {
   "cell_type": "code",
   "execution_count": null,
   "id": "c811ba6a-472f-48e2-901d-00d1e3957661",
   "metadata": {},
   "outputs": [],
   "source": [
    "text_emb_cpu = text_embeddings.cpu()"
   ]
  },
  {
   "cell_type": "code",
   "execution_count": null,
   "id": "c2cd9374-794c-49c6-b6f7-eb39fc0641e5",
   "metadata": {},
   "outputs": [],
   "source": [
    "text_emb_cpu.shape"
   ]
  },
  {
   "cell_type": "code",
   "execution_count": null,
   "id": "09a402ec-1beb-48fa-892c-34b47ae67dab",
   "metadata": {},
   "outputs": [],
   "source": [
    "mapping = reducer.fit(text_emb_cpu)"
   ]
  },
  {
   "cell_type": "code",
   "execution_count": null,
   "id": "1c20206e-b1a5-4523-ad4b-a1b8cc4b1ff7",
   "metadata": {},
   "outputs": [],
   "source": [
    "mapping.transform(text_emb_cpu[0:1])"
   ]
  },
  {
   "cell_type": "code",
   "execution_count": null,
   "id": "0ab5b8fc-afb0-4638-bb96-bd2c30da1c8d",
   "metadata": {},
   "outputs": [],
   "source": [
    "from utils.data import descriptions\n",
    "prompts = descriptions[:,0]\n",
    "prompts"
   ]
  },
  {
   "cell_type": "code",
   "execution_count": null,
   "id": "8627583f-e64d-408d-9e6b-14a644879e18",
   "metadata": {},
   "outputs": [],
   "source": [
    "from utils.model import CLIP\n",
    "clip = CLIP()\n",
    "embeddings = umap.embed(prompts)"
   ]
  },
  {
   "cell_type": "code",
   "execution_count": null,
   "id": "62acc759-1382-4d17-b532-2735bfb528fd",
   "metadata": {},
   "outputs": [],
   "source": [
    "import joblib\n",
    "path = 'dump/umap.sav'\n",
    "joblib.dump(mapping, path)"
   ]
  }
 ],
 "metadata": {
  "kernelspec": {
   "display_name": "venv",
   "language": "python",
   "name": "venv"
  },
  "language_info": {
   "codemirror_mode": {
    "name": "ipython",
    "version": 3
   },
   "file_extension": ".py",
   "mimetype": "text/x-python",
   "name": "python",
   "nbconvert_exporter": "python",
   "pygments_lexer": "ipython3",
   "version": "3.9.7"
  }
 },
 "nbformat": 4,
 "nbformat_minor": 5
}
