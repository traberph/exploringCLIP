{
 "cells": [
  {
   "cell_type": "code",
   "execution_count": 3,
   "id": "fea7a395-8141-4e5c-b01a-a86142ff169a",
   "metadata": {},
   "outputs": [
    {
     "name": "stderr",
     "output_type": "stream",
     "text": [
      "2023-12-29 14:07:31.126232: I tensorflow/core/util/port.cc:113] oneDNN custom operations are on. You may see slightly different numerical results due to floating-point round-off errors from different computation orders. To turn them off, set the environment variable `TF_ENABLE_ONEDNN_OPTS=0`.\n",
      "2023-12-29 14:07:31.130355: I external/local_tsl/tsl/cuda/cudart_stub.cc:31] Could not find cuda drivers on your machine, GPU will not be used.\n",
      "2023-12-29 14:07:31.166660: E external/local_xla/xla/stream_executor/cuda/cuda_dnn.cc:9261] Unable to register cuDNN factory: Attempting to register factory for plugin cuDNN when one has already been registered\n",
      "2023-12-29 14:07:31.166689: E external/local_xla/xla/stream_executor/cuda/cuda_fft.cc:607] Unable to register cuFFT factory: Attempting to register factory for plugin cuFFT when one has already been registered\n",
      "2023-12-29 14:07:31.167860: E external/local_xla/xla/stream_executor/cuda/cuda_blas.cc:1515] Unable to register cuBLAS factory: Attempting to register factory for plugin cuBLAS when one has already been registered\n",
      "2023-12-29 14:07:31.174398: I external/local_tsl/tsl/cuda/cudart_stub.cc:31] Could not find cuda drivers on your machine, GPU will not be used.\n",
      "2023-12-29 14:07:31.175082: I tensorflow/core/platform/cpu_feature_guard.cc:182] This TensorFlow binary is optimized to use available CPU instructions in performance-critical operations.\n",
      "To enable the following instructions: AVX2 AVX512F AVX512_VNNI FMA, in other operations, rebuild TensorFlow with the appropriate compiler flags.\n",
      "2023-12-29 14:07:32.349655: W tensorflow/compiler/tf2tensorrt/utils/py_utils.cc:38] TF-TRT Warning: Could not find TensorRT\n"
     ]
    }
   ],
   "source": [
    "import joblib\n",
    "mapping = joblib.load('dump/umap.sav')"
   ]
  },
  {
   "cell_type": "code",
   "execution_count": 2,
   "id": "1666d84c-ea68-4c74-b68d-7c8f529cb736",
   "metadata": {},
   "outputs": [
    {
     "ename": "ImportError",
     "evalue": "cannot import name 'prompts' from 'utils.data' (/pfs/data5/home/kn/kn_kn/kn_pop531500/project/utils/data.py)",
     "output_type": "error",
     "traceback": [
      "\u001b[0;31m---------------------------------------------------------------------------\u001b[0m",
      "\u001b[0;31mImportError\u001b[0m                               Traceback (most recent call last)",
      "Cell \u001b[0;32mIn[2], line 1\u001b[0m\n\u001b[0;32m----> 1\u001b[0m \u001b[38;5;28;01mfrom\u001b[39;00m \u001b[38;5;21;01mutils\u001b[39;00m\u001b[38;5;21;01m.\u001b[39;00m\u001b[38;5;21;01mdata\u001b[39;00m \u001b[38;5;28;01mimport\u001b[39;00m prompts\n",
      "\u001b[0;31mImportError\u001b[0m: cannot import name 'prompts' from 'utils.data' (/pfs/data5/home/kn/kn_kn/kn_pop531500/project/utils/data.py)"
     ]
    }
   ],
   "source": [
    "from utils.data import prompts"
   ]
  },
  {
   "cell_type": "code",
   "execution_count": 16,
   "id": "7058d19c-af30-47dc-9ca4-c53e1da0ceef",
   "metadata": {},
   "outputs": [
    {
     "data": {
      "text/plain": [
       "['[<Axes: > <Axes: > <Axes: >] car',\n",
       " '[<Axes: > <Axes: > <Axes: >] plane',\n",
       " '[<Axes: > <Axes: > <Axes: >] train',\n",
       " '[<Axes: > <Axes: > <Axes: >] car',\n",
       " '[<Axes: > <Axes: > <Axes: >] plane',\n",
       " '[<Axes: > <Axes: > <Axes: >] train',\n",
       " '[<Axes: > <Axes: > <Axes: >] car',\n",
       " '[<Axes: > <Axes: > <Axes: >] plane',\n",
       " '[<Axes: > <Axes: > <Axes: >] train']"
      ]
     },
     "execution_count": 16,
     "metadata": {},
     "output_type": "execute_result"
    }
   ],
   "source": [
    "a = [(f'{x} {y}') for x in ax for y in ay]\n",
    "a"
   ]
  },
  {
   "cell_type": "code",
   "execution_count": 17,
   "id": "58987ec1-300d-4b03-ae13-cfda9bd628ee",
   "metadata": {},
   "outputs": [],
   "source": [
    "from utils.model import CLIP\n",
    "clip = CLIP()\n",
    "clip_embeddings = clip.embed(a)"
   ]
  },
  {
   "cell_type": "code",
   "execution_count": 18,
   "id": "9957aeb4-7bcc-45e1-a5de-88fe9e6fa884",
   "metadata": {},
   "outputs": [],
   "source": [
    "umap_result = mapping.transform(clip_embeddings.cpu())"
   ]
  },
  {
   "cell_type": "code",
   "execution_count": 35,
   "id": "1712855c-d72d-44e2-b95b-46273bfbba47",
   "metadata": {},
   "outputs": [
    {
     "name": "stdout",
     "output_type": "stream",
     "text": [
      "[6.5926824 5.3117495]\n",
      "[7.657979  6.3847933]\n",
      "[7.445852  4.8219748]\n",
      "[6.5574203 5.353256 ]\n",
      "[7.768511  6.3474574]\n",
      "[7.458009  4.7971277]\n",
      "[6.4577794 5.1648693]\n",
      "[7.817979  6.3575096]\n",
      "[7.402725 4.875356]\n"
     ]
    },
    {
     "data": {
      "image/png": "[encoded data removed]",
      "text/plain": [
       "<Figure size 640x480 with 9 Axes>"
      ]
     },
     "metadata": {},
     "output_type": "display_data"
    }
   ],
   "source": [
    "import matplotlib.pyplot as plt\n",
    "import seaborn as sns\n",
    "\n",
    "fig, ax = plt.subplots(len(y),len(x))\n",
    "for idx, r in enumerate(umap_result):\n",
    "    print (r)\n",
    "    posx = idx%len(x)\n",
    "    posy = int(idx/len(x))\n",
    "    cax= ax[idx%len(x)][int(idx/len(x))]\n",
    "    sns.scatterplot(x=[r[0]], y=[r[1]], ax=cax)"
   ]
  },
  {
   "cell_type": "code",
   "execution_count": null,
   "id": "dd952734-9012-4b57-babf-b5fd6b0b4abf",
   "metadata": {},
   "outputs": [],
   "source": []
  }
 ],
 "metadata": {
  "kernelspec": {
   "display_name": "venv",
   "language": "python",
   "name": "venv"
  },
  "language_info": {
   "codemirror_mode": {
    "name": "ipython",
    "version": 3
   },
   "file_extension": ".py",
   "mimetype": "text/x-python",
   "name": "python",
   "nbconvert_exporter": "python",
   "pygments_lexer": "ipython3",
   "version": "3.9.7"
  }
 },
 "nbformat": 4,
 "nbformat_minor": 5
}
